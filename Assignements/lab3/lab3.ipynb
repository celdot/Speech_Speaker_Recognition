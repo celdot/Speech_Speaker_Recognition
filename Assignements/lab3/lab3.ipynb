{
 "cells": [
  {
   "cell_type": "code",
   "execution_count": 5,
   "id": "65d68904",
   "metadata": {},
   "outputs": [],
   "source": [
    "import os\n",
    "\n",
    "import numpy as np\n",
    "import matplotlib.pyplot as plt\n",
    "\n",
    "import torch\n",
    "import torch.nn as nn\n",
    "import torch.nn.functional as F\n",
    "\n",
    "\n",
    "from lab3_proto import *\n",
    "from lab3_tools import *\n",
    "from lab1_proto import mfcc"
   ]
  },
  {
   "cell_type": "code",
   "execution_count": 9,
   "id": "99c8173c",
   "metadata": {},
   "outputs": [],
   "source": [
    "TRAIN_DIR = \"tidigits/disc_4.1.1/tidigits/train/\"\n",
    "TEST_DIR = \"tidigits/disc_4.2.1/tidigits/test/\""
   ]
  },
  {
   "cell_type": "code",
   "execution_count": 11,
   "id": "cc770abd",
   "metadata": {},
   "outputs": [],
   "source": [
    "phoneHMMs = np.load('lab2_models_all.npz', allow_pickle=True)['phoneHMMs'].item()\n",
    "phones = sorted(phoneHMMs.keys())\n",
    "nstates = {phone: phoneHMMs[phone]['means'].shape[0] for phone in phones}\n",
    "\n",
    "if not os.path.exists(\"stateList.txt\"):\n",
    "    stateList = [ph + '_' + str(id) for ph in phones for id in range(nstates[ph])]\n",
    "    with open(\"stateList.txt\", \"w\") as f:\n",
    "        for state in stateList:\n",
    "            f.write(state + \"\\n\")\n",
    "else:\n",
    "    with open(\"stateList.txt\", \"r\") as f:\n",
    "        stateList = f.read().splitlines()\n"
   ]
  },
  {
   "cell_type": "code",
   "execution_count": 13,
   "id": "ac7b8a5b",
   "metadata": {},
   "outputs": [
    {
     "data": {
      "text/plain": [
       "['z', '4', '3']"
      ]
     },
     "execution_count": 13,
     "metadata": {},
     "output_type": "execute_result"
    }
   ],
   "source": [
    "filename = 'tidigits/disc_4.1.1/tidigits/train/man/nw/z43a.wav'\n",
    "samples, samplingrate = loadAudio(filename)\n",
    "lmfcc = mfcc(samples)\n",
    "\n",
    "wordTrans = list(path2info(filename)[2])\n",
    "wordTrans"
   ]
  },
  {
   "cell_type": "code",
   "execution_count": 15,
   "id": "bbc228d4",
   "metadata": {},
   "outputs": [],
   "source": [
    "from prondict import prondict\n",
    "phoneTrans = words2phones(wordTrans, prondict)\n",
    "phoneTrans"
   ]
  },
  {
   "cell_type": "code",
   "execution_count": null,
   "id": "20f64986",
   "metadata": {},
   "outputs": [],
   "source": []
  },
  {
   "cell_type": "code",
   "execution_count": null,
   "id": "890fed66",
   "metadata": {},
   "outputs": [],
   "source": []
  }
 ],
 "metadata": {
  "kernelspec": {
   "display_name": "Python 3",
   "language": "python",
   "name": "python3"
  },
  "language_info": {
   "codemirror_mode": {
    "name": "ipython",
    "version": 3
   },
   "file_extension": ".py",
   "mimetype": "text/x-python",
   "name": "python",
   "nbconvert_exporter": "python",
   "pygments_lexer": "ipython3",
   "version": "3.12.10"
  }
 },
 "nbformat": 4,
 "nbformat_minor": 5
}
